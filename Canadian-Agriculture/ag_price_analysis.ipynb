{
 "cells": [
  {
   "cell_type": "code",
   "execution_count": 3,
   "id": "28872561-3c5b-4024-bcbf-1c805d7431b1",
   "metadata": {},
   "outputs": [
    {
     "name": "stdout",
     "output_type": "stream",
     "text": [
      "  REF_DATE           GEO        DGUID  \\\n",
      "0  1980-01      Manitoba  2016A000246   \n",
      "1  1980-01      Manitoba  2016A000246   \n",
      "2  1980-01      Manitoba  2016A000246   \n",
      "3  1980-01      Manitoba  2016A000246   \n",
      "4  1980-01  Saskatchewan  2016A000247   \n",
      "\n",
      "                                    Farm products                       UOM  \\\n",
      "0  Canadian Wheat Board, wheat including payments  Dollars per metric tonne   \n",
      "1  Canadian Wheat Board, wheat excluding payments  Dollars per metric tonne   \n",
      "2  Canadian Wheat Board, durum including payments  Dollars per metric tonne   \n",
      "3  Canadian Wheat Board, durum excluding payments  Dollars per metric tonne   \n",
      "4  Canadian Wheat Board, wheat including payments  Dollars per metric tonne   \n",
      "\n",
      "   UOM_ID SCALAR_FACTOR  SCALAR_ID     VECTOR  COORDINATE   VALUE STATUS  \\\n",
      "0     117         units          0  v31212166         7.4  170.49    NaN   \n",
      "1     117         units          0  v31212167         7.5  133.74    NaN   \n",
      "2     117         units          0  v31212168         7.6  178.79    NaN   \n",
      "3     117         units          0  v31212169         7.7  142.90    NaN   \n",
      "4     117         units          0  v31212202         8.4  175.79    NaN   \n",
      "\n",
      "   SYMBOL TERMINATED  DECIMALS  \n",
      "0     NaN          t         2  \n",
      "1     NaN          t         2  \n",
      "2     NaN          t         2  \n",
      "3     NaN          t         2  \n",
      "4     NaN          t         2  \n"
     ]
    }
   ],
   "source": [
    "import pandas as pd\n",
    "\n",
    "file_path = 'data/ag-price.csv'\n",
    "df = pd.read_csv(file_path)\n",
    "print(df.head())"
   ]
  },
  {
   "cell_type": "code",
   "execution_count": 7,
   "id": "5ef5b224-ba48-44ba-9212-008d4c6e232e",
   "metadata": {},
   "outputs": [
    {
     "name": "stdout",
     "output_type": "stream",
     "text": [
      "<class 'pandas.core.frame.DataFrame'>\n",
      "RangeIndex: 105545 entries, 0 to 105544\n",
      "Data columns (total 8 columns):\n",
      " #   Column         Non-Null Count   Dtype  \n",
      "---  ------         --------------   -----  \n",
      " 0   REF_DATE       105545 non-null  object \n",
      " 1   GEO            105545 non-null  object \n",
      " 2   Farm products  105545 non-null  object \n",
      " 3   UOM            105545 non-null  object \n",
      " 4   SCALAR_FACTOR  105545 non-null  object \n",
      " 5   COORDINATE     105545 non-null  float64\n",
      " 6   VALUE          105545 non-null  float64\n",
      " 7   STATUS         0 non-null       object \n",
      "dtypes: float64(2), object(6)\n",
      "memory usage: 6.4+ MB\n"
     ]
    },
    {
     "data": {
      "text/plain": [
       "count    105545.000000\n",
       "mean        147.947355\n",
       "std         159.706363\n",
       "min           0.720000\n",
       "25%          63.710000\n",
       "50%         103.270000\n",
       "75%         180.160000\n",
       "max        1521.070000\n",
       "Name: VALUE, dtype: float64"
      ]
     },
     "execution_count": 7,
     "metadata": {},
     "output_type": "execute_result"
    }
   ],
   "source": [
    "columns_to_drop = ['DGUID', 'VECTOR', 'SCALAR_ID', 'UOM_ID', 'SYMBOL', 'TERMINATED', 'DECIMALS']\n",
    "df_cleaned = df.drop(columns=columns_to_drop)\n",
    "df_cleaned = df_cleaned.dropna(subset=['VALUE'])\n",
    "df_cleaned.reset_index(drop=True, inplace=True)\n",
    "df_cleaned.info()\n",
    "df_cleaned.head()\n",
    "df_cleaned['VALUE'].describe()"
   ]
  }
 ],
 "metadata": {
  "kernelspec": {
   "display_name": "Python 3 (ipykernel)",
   "language": "python",
   "name": "python3"
  },
  "language_info": {
   "codemirror_mode": {
    "name": "ipython",
    "version": 3
   },
   "file_extension": ".py",
   "mimetype": "text/x-python",
   "name": "python",
   "nbconvert_exporter": "python",
   "pygments_lexer": "ipython3",
   "version": "3.12.1"
  }
 },
 "nbformat": 4,
 "nbformat_minor": 5
}
